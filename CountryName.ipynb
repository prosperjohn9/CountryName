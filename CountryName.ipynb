{
  "nbformat": 4,
  "nbformat_minor": 0,
  "metadata": {
    "colab": {
      "provenance": [],
      "authorship_tag": "ABX9TyN3IQixtTjB58y7jgaEvAQc",
      "include_colab_link": true
    },
    "kernelspec": {
      "name": "python3",
      "display_name": "Python 3"
    },
    "language_info": {
      "name": "python"
    }
  },
  "cells": [
    {
      "cell_type": "markdown",
      "metadata": {
        "id": "view-in-github",
        "colab_type": "text"
      },
      "source": [
        "<a href=\"https://colab.research.google.com/github/prosperjohn9/CountryName/blob/main/CountryName.ipynb\" target=\"_parent\"><img src=\"https://colab.research.google.com/assets/colab-badge.svg\" alt=\"Open In Colab\"/></a>"
      ]
    },
    {
      "cell_type": "markdown",
      "source": [
        "**The Czech Republic** is a small landlocked country in Central Europe, situated southeast of Germany and bordering Austria to the south, Poland to the north and Slovakia to the southeast. **The Czech Republic** is not a geographically large country, but it has a rich and eventful history. **The Czech Republic** contains a vast amount of architectural treasure, as well as beautiful forests and mountains to match.\n",
        "\n",
        "**Czechia** is a small landlocked country in Central Europe, situated southeast of Germany and bordering Austria to the south, Poland to the north and Slovakia to the southeast. **Czechia** is not a geographically large country, but it has a rich and eventful history. **Czechia** contains a vast amount of architectural treasure, as well as beautiful forests and mountains to match."
      ],
      "metadata": {
        "id": "QHO993OZWoMd"
      }
    },
    {
      "cell_type": "code",
      "execution_count": 1,
      "metadata": {
        "id": "6aC73D7Qhei6",
        "colab": {
          "base_uri": "https://localhost:8080/"
        },
        "outputId": "86b6557f-4b9f-4926-b3ab-9ac867de37c4"
      },
      "outputs": [
        {
          "output_type": "stream",
          "name": "stdout",
          "text": [
            "Czechia is a small landlocked country in Central Europe, situated southeast of Germany and bordering Austria to the south, Poland to the north and Slovakia to the southeast. Czechia is not a geographically large country, but it has a rich and eventful history. Czechia contains a vast amount of architectural treasure, as well as beautiful forests and mountains to match.\n"
          ]
        }
      ],
      "source": [
        "text = \"The Czech Republic is a small landlocked country in Central Europe, situated southeast of Germany and bordering Austria to the south, Poland to the north and Slovakia to the southeast. The Czech Republic is not a geographically large country, but it has a rich and eventful history. The Czech Republic contains a vast amount of architectural treasure, as well as beautiful forests and mountains to match.\"\n",
        "\n",
        "replacedText = text.replace(\"The Czech Republic\", \"Czechia\")\n",
        "print(replacedText)"
      ]
    }
  ]
}